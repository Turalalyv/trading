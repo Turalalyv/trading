{
 "cells": [
  {
   "cell_type": "code",
   "execution_count": 64,
   "metadata": {},
   "outputs": [
    {
     "name": "stdout",
     "output_type": "stream",
     "text": [
      "Degree 0: 2024-04-19\n",
      "Degree 90: 2024-07-20\n",
      "Degree 180: 2024-10-19\n",
      "Degree 270: 2024-01-18\n",
      "Degree 120: 2024-08-19\n",
      "Degree 240: 2024-12-19\n",
      "Degree 144: 2024-09-12\n",
      "Degree 216: 2024-11-25\n"
     ]
    }
   ],
   "source": [
    "from datetime import datetime, timedelta\n",
    "\n",
    "def is_leap_year(year):\n",
    "    \"\"\"Check if a given year is a leap year.\"\"\"\n",
    "    return year % 4 == 0 and (year % 100 != 0 or year % 400 == 0)\n",
    "\n",
    "def calculate_vibration_dates(start_date, degrees):\n",
    "    start_date = datetime.strptime(start_date, \"%Y-%m-%d\")\n",
    "    year = start_date.year\n",
    "    total_days = 366 if is_leap_year(year) else 365 \n",
    "    \n",
    "    days_per_degree = total_days / 360\n",
    "    \n",
    "    vibration_dates = {}\n",
    "    \n",
    "    for degree in degrees:\n",
    "        days_to_add = int(round(degree * days_per_degree))\n",
    "        \n",
    "        vibration_date = start_date + timedelta(days=days_to_add)\n",
    "        \n",
    "        while vibration_date.year > year:\n",
    "            vibration_date -= timedelta(days=total_days)\n",
    "        while vibration_date.year < year:\n",
    "            vibration_date += timedelta(days=total_days)\n",
    "        \n",
    "        vibration_dates[degree] = vibration_date.strftime(\"%Y-%m-%d\")\n",
    "    \n",
    "    return vibration_dates\n",
    "\n",
    "# Example usage\n",
    "start_date = \"2024-04-19\"  \n",
    "degrees = [0, 90, 180, 270, 120, 240, 144, 216]  \n",
    "vibration_dates = calculate_vibration_dates(start_date, degrees)\n",
    "\n",
    "for degree, date in vibration_dates.items():\n",
    "    print(f\"Degree {degree}: {date}\")\n"
   ]
  },
  {
   "cell_type": "code",
   "execution_count": 66,
   "metadata": {},
   "outputs": [
    {
     "name": "stderr",
     "output_type": "stream",
     "text": [
      "[*********************100%***********************]  1 of 1 completed"
     ]
    },
    {
     "name": "stdout",
     "output_type": "stream",
     "text": [
      "<__main__.GannSwing object at 0x0000020F98EEB7D0>\n"
     ]
    },
    {
     "name": "stderr",
     "output_type": "stream",
     "text": [
      "\n"
     ]
    }
   ],
   "source": [
    "import pandas as pd\n",
    "import numpy as np\n",
    "import yfinance as yf\n",
    "from enum import Enum\n",
    "import plotly.graph_objects as go\n",
    "from datetime import datetime,timedelta\n",
    "\n",
    "class GannSwing:\n",
    "    '''\n",
    "    Class to perform Gann swing calculations\n",
    "    '''\n",
    "    def __init__(self, bars: pd.DataFrame):\n",
    "        '''\n",
    "        Parameters:\n",
    "        - (required) a pandas dataframe containing OHLC data\n",
    "        '''\n",
    "        self.bars = bars\n",
    "        self.__validate_bars(bars)\n",
    "\n",
    "    def __validate_bars(self, bars):\n",
    "        if not isinstance(self.bars, pd.DataFrame):\n",
    "            raise TypeError('bars should be a Pandas dataframe')\n",
    "        mandatory_columns = ['Timestamp', 'Open', 'High', 'Low', 'Close']\n",
    "        columns = list(bars.columns)\n",
    "        for i in mandatory_columns:\n",
    "            if i not in columns:\n",
    "                raise IndexError('bars is missing a column named \"%s\"' % i)\n",
    "\n",
    "    class Trend(Enum):\n",
    "        UNKNOWN = np.nan\n",
    "        UP = 'Up'\n",
    "        DOWN = 'Down'\n",
    "\n",
    "    def calculate_swings(self, swing_days: int = 1, inside_down: bool = False, ignore_threshold: int = 0, use_close_of_outside_bar: bool = False) -> pd.DataFrame:\n",
    "        self.swing_days = swing_days\n",
    "        self.inside_down = inside_down\n",
    "        self.ignore_threshold = ignore_threshold\n",
    "        self.use_close_of_outside_bar = use_close_of_outside_bar\n",
    "\n",
    "        # Initialize list to store swing points\n",
    "        swing_points = []\n",
    "\n",
    "        # Calculate swing points by checking for local maxima and minima\n",
    "        for i in range(swing_days, len(self.bars) - swing_days):\n",
    "            high = self.bars['High'][i]\n",
    "            low = self.bars['Low'][i]\n",
    "            is_swing_high = all(self.bars['High'][i] > self.bars['High'][i - j] for j in range(1, swing_days + 1)) and \\\n",
    "                            all(self.bars['High'][i] > self.bars['High'][i + j] for j in range(1, swing_days + 1))\n",
    "            is_swing_low = all(self.bars['Low'][i] < self.bars['Low'][i - j] for j in range(1, swing_days + 1)) and \\\n",
    "                           all(self.bars['Low'][i] < self.bars['Low'][i + j] for j in range(1, swing_days + 1))\n",
    "            \n",
    "            if is_swing_high or is_swing_low:\n",
    "                swing_points.append({\n",
    "                    'Timestamp': self.bars['Timestamp'][i],\n",
    "                    'SwingPrice': high if is_swing_high else low,\n",
    "                    'Trend': 'Up' if is_swing_high else 'Down'\n",
    "                })\n",
    "\n",
    "        # Convert results to a DataFrame\n",
    "        results = pd.DataFrame(swing_points)\n",
    "        return results\n",
    "\n",
    "    def visualise(self):\n",
    "        '''\n",
    "        Draw an OHLC chart of the bars data. If swings have been calculated, overlay them\n",
    "        on top of the OHLC chart.\n",
    "        '''\n",
    "        hovertext = []\n",
    "        for i in range(len(self.bars['Open'])):\n",
    "            hovertext.append('Open: ' + str(self.bars['Open'][i]) + '<br>High: ' + str(self.bars['High'][i]) +\n",
    "                             '<br>Low: ' + str(self.bars['Low'][i]) + '<br>Close: ' + str(self.bars['Close'][i]))\n",
    "\n",
    "        fig = go.Figure(data=go.Ohlc(x=self.bars['Timestamp'],\n",
    "                                     open=self.bars['Open'],\n",
    "                                     high=self.bars['High'],\n",
    "                                     low=self.bars['Low'],\n",
    "                                     close=self.bars['Close']),\n",
    "                        )\n",
    "        fig.update(layout_xaxis_rangeslider_visible=False)\n",
    "\n",
    "        # If swings have been calculated, overlay them\n",
    "        swings = self.calculate_swings()\n",
    "        fig.add_trace(go.Scatter(x=swings['Timestamp'],\n",
    "                                 y=swings['SwingPrice'],\n",
    "                                 mode='markers',\n",
    "                                 marker=dict(color='blue', size=8),\n",
    "                                 name='Swing Points'))\n",
    "        fig.show()\n",
    "\n",
    "# Function to get data from Yahoo Finance\n",
    "def get_yahoo_data(ticker, start_date, end_date):\n",
    "    data = yf.download(ticker, start=start_date, end=end_date)\n",
    "    data.reset_index(inplace=True)\n",
    "    data = data.rename(columns={'Date': 'Timestamp'})\n",
    "    return data[['Timestamp', 'Open', 'High', 'Low', 'Close']]\n",
    "\n",
    "# Main function to run Gann swing analysis\n",
    "def calculate_swing_points(ticker, start_date, end_date):\n",
    "    # Get data from Yahoo Finance\n",
    "    bars = get_yahoo_data(ticker, start_date, end_date)\n",
    "    \n",
    "    # Initialize GannSwing class with data\n",
    "    gs = GannSwing(bars)\n",
    "    print(gs)\n",
    "    \n",
    "    swing_points = gs.calculate_swings(swing_days=5)\n",
    "    \n",
    "    # Display results\n",
    "    # print(\"Swing Points:\")\n",
    "    # print(swing_points)\n",
    "\n",
    "    # Visualize results\n",
    "    # gs.visualise()\n",
    "    \n",
    "    return swing_points\n",
    "\n",
    "# Example usage\n",
    "sp=calculate_swing_points(ticker='AAPL', start_date='2024-01-01', end_date='2024-03-31')\n"
   ]
  },
  {
   "cell_type": "code",
   "execution_count": null,
   "metadata": {},
   "outputs": [
    {
     "name": "stderr",
     "output_type": "stream",
     "text": [
      "[*********************100%***********************]  1 of 1 completed"
     ]
    },
    {
     "name": "stderr",
     "output_type": "stream",
     "text": [
      "\n",
      "[*********************100%***********************]  1 of 1 completed\n"
     ]
    },
    {
     "name": "stdout",
     "output_type": "stream",
     "text": [
      "<__main__.GannSwing object at 0x0000020F98F117C0>\n",
      "jpy\n",
      "<__main__.GannSwing object at 0x0000020F98CE8650>\n",
      "eur\n"
     ]
    },
    {
     "name": "stderr",
     "output_type": "stream",
     "text": [
      "[*********************100%***********************]  1 of 1 completed\n",
      "[*********************100%***********************]  1 of 1 completed\n",
      "[*********************100%***********************]  1 of 1 completed\n",
      "[*********************100%***********************]  1 of 1 completed\n",
      "[*********************100%***********************]  1 of 1 completed\n",
      "[*********************100%***********************]  1 of 1 completed\n"
     ]
    },
    {
     "name": "stdout",
     "output_type": "stream",
     "text": [
      "<__main__.GannSwing object at 0x0000020F98E69C70>\n",
      "gbp\n",
      "<__main__.GannSwing object at 0x0000020F98CE2390>\n",
      "franc\n",
      "<__main__.GannSwing object at 0x0000020F98E2C2C0>\n",
      "us100\n",
      "<__main__.GannSwing object at 0x0000020F98E6AFF0>\n",
      "us30\n",
      "<__main__.GannSwing object at 0x0000020F98EE8D40>\n",
      "us500\n",
      "<__main__.GannSwing object at 0x0000020F98E6AE70>\n",
      "crude oil\n"
     ]
    },
    {
     "name": "stderr",
     "output_type": "stream",
     "text": [
      "[*********************100%***********************]  1 of 1 completed\n",
      "[*********************100%***********************]  1 of 1 completed\n",
      "[*********************100%***********************]  1 of 1 completed\n",
      "[*********************100%***********************]  1 of 1 completed\n",
      "[*********************100%***********************]  1 of 1 completed\n"
     ]
    },
    {
     "name": "stdout",
     "output_type": "stream",
     "text": [
      "<__main__.GannSwing object at 0x0000020F992B7560>\n",
      "gold\n",
      "<__main__.GannSwing object at 0x0000020F98CE3830>\n",
      "bitcoin\n",
      "<__main__.GannSwing object at 0x0000020F992A9790>\n",
      "Apple\n",
      "<__main__.GannSwing object at 0x0000020F99013B30>\n",
      "Microsoft\n",
      "<__main__.GannSwing object at 0x0000020F99013DA0>\n",
      "Google\n"
     ]
    },
    {
     "name": "stderr",
     "output_type": "stream",
     "text": [
      "[*********************100%***********************]  1 of 1 completed\n",
      "[*********************100%***********************]  1 of 1 completed\n",
      "[*********************100%***********************]  1 of 1 completed\n",
      "[*********************100%***********************]  1 of 1 completed\n",
      "[*********************100%***********************]  1 of 1 completed\n"
     ]
    },
    {
     "name": "stdout",
     "output_type": "stream",
     "text": [
      "<__main__.GannSwing object at 0x0000020F992DA780>\n",
      "Amazon\n",
      "<__main__.GannSwing object at 0x0000020F98DD9C10>\n",
      "NVIDIA\n",
      "<__main__.GannSwing object at 0x0000020F992D9A90>\n",
      "Berkshire\n",
      "<__main__.GannSwing object at 0x0000020F992B7FB0>\n",
      "Meta\n",
      "<__main__.GannSwing object at 0x0000020F98EE8D40>\n",
      "Tesla\n"
     ]
    }
   ],
   "source": [
    "tickers ={'jpy': 'JPY%3DX',\n",
    "        'eur': 'EURUSD%3DX',\n",
    "        'gbp': 'GBPUSD%3DX',\n",
    "        'franc': 'CHFUSD%3DX',\n",
    "        'us100': 'NQ%3DF',\n",
    "        'us30': 'YM%3DF',\n",
    "        'us500': 'ES%3DF',\n",
    "        'crude oil': 'CL%3DF',\n",
    "        'gold': 'GC%3DF',\n",
    "        'bitcoin': 'BTC-USD',\n",
    "        'Apple': 'AAPL',\n",
    "        'Microsoft': 'MSFT',\n",
    "        'Google': 'GOOGL',\n",
    "        'Amazon': 'AMZN',\n",
    "        'NVIDIA': 'NVDA',\n",
    "        'Berkshire': 'BRK-B',\n",
    "        'Meta': 'META',\n",
    "        'Tesla': 'TSLA',\n",
    "\n",
    "    }\n",
    "swing_points_list=[]\n",
    "for ticker in tickers.keys():\n",
    "    stock={}    \n",
    "\n",
    "    sp=calculate_swing_points(ticker=tickers[ticker], start_date='2024-01-01', end_date='2024-03-31')\n",
    "    print(ticker)\n",
    "    stock = {\n",
    "    'Ticker': [ticker],\n",
    "    'Min_price_date': [sp.loc[sp['SwingPrice'].idxmin(), 'Timestamp']],\n",
    "    'Max_price_date': [sp.loc[sp['SwingPrice'].idxmax(), 'Timestamp']]\n",
    "    }\n",
    "    swing_points_list.append(stock)"
   ]
  },
  {
   "cell_type": "code",
   "execution_count": null,
   "metadata": {},
   "outputs": [
    {
     "name": "stdout",
     "output_type": "stream",
     "text": [
      "[{'Ticker': 'jpy', 'Min_price_date': '2024-02-01', 'vibration_dates': {0: '2024-02-01', 90: '2024-05-03', 180: '2024-08-02', 270: '2024-11-01', 120: '2024-06-02', 240: '2024-10-02', 144: '2024-06-26', 216: '2024-09-08'}}, {'Ticker': 'jpy', 'Max_price_date': '2024-02-28', 'vibration_dates': {0: '2024-02-28', 90: '2024-05-30', 180: '2024-08-29', 270: '2024-11-28', 120: '2024-06-29', 240: '2024-10-29', 144: '2024-07-23', 216: '2024-10-05'}}, {'Ticker': 'eur', 'Min_price_date': '2024-02-14', 'vibration_dates': {0: '2024-02-14', 90: '2024-05-16', 180: '2024-08-15', 270: '2024-11-14', 120: '2024-06-15', 240: '2024-10-15', 144: '2024-07-09', 216: '2024-09-21'}}, {'Ticker': 'eur', 'Max_price_date': '2024-03-08', 'vibration_dates': {0: '2024-03-08', 90: '2024-06-08', 180: '2024-09-07', 270: '2024-12-07', 120: '2024-07-08', 240: '2024-11-07', 144: '2024-08-01', 216: '2024-10-14'}}, {'Ticker': 'gbp', 'Min_price_date': '2024-02-05', 'vibration_dates': {0: '2024-02-05', 90: '2024-05-07', 180: '2024-08-06', 270: '2024-11-05', 120: '2024-06-06', 240: '2024-10-06', 144: '2024-06-30', 216: '2024-09-12'}}, {'Ticker': 'gbp', 'Max_price_date': '2024-03-08', 'vibration_dates': {0: '2024-03-08', 90: '2024-06-08', 180: '2024-09-07', 270: '2024-12-07', 120: '2024-07-08', 240: '2024-11-07', 144: '2024-08-01', 216: '2024-10-14'}}, {'Ticker': 'franc', 'Min_price_date': '2024-03-01', 'vibration_dates': {0: '2024-03-01', 90: '2024-06-01', 180: '2024-08-31', 270: '2024-11-30', 120: '2024-07-01', 240: '2024-10-31', 144: '2024-07-25', 216: '2024-10-07'}}, {'Ticker': 'franc', 'Max_price_date': '2024-02-02', 'vibration_dates': {0: '2024-02-02', 90: '2024-05-04', 180: '2024-08-03', 270: '2024-11-02', 120: '2024-06-03', 240: '2024-10-03', 144: '2024-06-27', 216: '2024-09-09'}}, {'Ticker': 'us100', 'Min_price_date': '2024-01-31', 'vibration_dates': {0: '2024-01-31', 90: '2024-05-02', 180: '2024-08-01', 270: '2024-10-31', 120: '2024-06-01', 240: '2024-10-01', 144: '2024-06-25', 216: '2024-09-07'}}, {'Ticker': 'us100', 'Max_price_date': '2024-03-21', 'vibration_dates': {0: '2024-03-21', 90: '2024-06-21', 180: '2024-09-20', 270: '2024-12-20', 120: '2024-07-21', 240: '2024-11-20', 144: '2024-08-14', 216: '2024-10-27'}}, {'Ticker': 'us30', 'Min_price_date': '2024-01-18', 'vibration_dates': {0: '2024-01-18', 90: '2024-04-19', 180: '2024-07-19', 270: '2024-10-18', 120: '2024-05-19', 240: '2024-09-18', 144: '2024-06-12', 216: '2024-08-25'}}, {'Ticker': 'us30', 'Max_price_date': '2024-03-21', 'vibration_dates': {0: '2024-03-21', 90: '2024-06-21', 180: '2024-09-20', 270: '2024-12-20', 120: '2024-07-21', 240: '2024-11-20', 144: '2024-08-14', 216: '2024-10-27'}}, {'Ticker': 'us500', 'Min_price_date': '2024-01-17', 'vibration_dates': {0: '2024-01-17', 90: '2024-04-18', 180: '2024-07-18', 270: '2024-10-17', 120: '2024-05-18', 240: '2024-09-17', 144: '2024-06-11', 216: '2024-08-24'}}, {'Ticker': 'us500', 'Max_price_date': '2024-03-21', 'vibration_dates': {0: '2024-03-21', 90: '2024-06-21', 180: '2024-09-20', 270: '2024-12-20', 120: '2024-07-21', 240: '2024-11-20', 144: '2024-08-14', 216: '2024-10-27'}}, {'Ticker': 'crude oil', 'Min_price_date': '2024-02-05', 'vibration_dates': {0: '2024-02-05', 90: '2024-05-07', 180: '2024-08-06', 270: '2024-11-05', 120: '2024-06-06', 240: '2024-10-06', 144: '2024-06-30', 216: '2024-09-12'}}, {'Ticker': 'crude oil', 'Max_price_date': '2024-03-19', 'vibration_dates': {0: '2024-03-19', 90: '2024-06-19', 180: '2024-09-18', 270: '2024-12-18', 120: '2024-07-19', 240: '2024-11-18', 144: '2024-08-12', 216: '2024-10-25'}}, {'Ticker': 'gold', 'Min_price_date': '2024-02-14', 'vibration_dates': {0: '2024-02-14', 90: '2024-05-16', 180: '2024-08-15', 270: '2024-11-14', 120: '2024-06-15', 240: '2024-10-15', 144: '2024-07-09', 216: '2024-09-21'}}, {'Ticker': 'gold', 'Max_price_date': '2024-03-08', 'vibration_dates': {0: '2024-03-08', 90: '2024-06-08', 180: '2024-09-07', 270: '2024-12-07', 120: '2024-07-08', 240: '2024-11-07', 144: '2024-08-01', 216: '2024-10-14'}}, {'Ticker': 'bitcoin', 'Min_price_date': '2024-01-23', 'vibration_dates': {0: '2024-01-23', 90: '2024-04-24', 180: '2024-07-24', 270: '2024-10-23', 120: '2024-05-24', 240: '2024-09-23', 144: '2024-06-17', 216: '2024-08-30'}}, {'Ticker': 'bitcoin', 'Max_price_date': '2024-03-14', 'vibration_dates': {0: '2024-03-14', 90: '2024-06-14', 180: '2024-09-13', 270: '2024-12-13', 120: '2024-07-14', 240: '2024-11-13', 144: '2024-08-07', 216: '2024-10-20'}}, {'Ticker': 'Apple', 'Min_price_date': '2024-03-07', 'vibration_dates': {0: '2024-03-07', 90: '2024-06-07', 180: '2024-09-06', 270: '2024-12-06', 120: '2024-07-07', 240: '2024-11-06', 144: '2024-07-31', 216: '2024-10-13'}}, {'Ticker': 'Apple', 'Max_price_date': '2024-01-24', 'vibration_dates': {0: '2024-01-24', 90: '2024-04-25', 180: '2024-07-25', 270: '2024-10-24', 120: '2024-05-25', 240: '2024-09-24', 144: '2024-06-18', 216: '2024-08-31'}}, {'Ticker': 'Microsoft', 'Min_price_date': '2024-02-21', 'vibration_dates': {0: '2024-02-21', 90: '2024-05-23', 180: '2024-08-22', 270: '2024-11-21', 120: '2024-06-22', 240: '2024-10-22', 144: '2024-07-16', 216: '2024-09-28'}}, {'Ticker': 'Microsoft', 'Max_price_date': '2024-03-21', 'vibration_dates': {0: '2024-03-21', 90: '2024-06-21', 180: '2024-09-20', 270: '2024-12-20', 120: '2024-07-21', 240: '2024-11-20', 144: '2024-08-14', 216: '2024-10-27'}}, {'Ticker': 'Google', 'Min_price_date': '2024-03-05', 'vibration_dates': {0: '2024-03-05', 90: '2024-06-05', 180: '2024-09-04', 270: '2024-12-04', 120: '2024-07-05', 240: '2024-11-04', 144: '2024-07-29', 216: '2024-10-11'}}, {'Ticker': 'Google', 'Max_price_date': '2024-01-29', 'vibration_dates': {0: '2024-01-29', 90: '2024-04-30', 180: '2024-07-30', 270: '2024-10-29', 120: '2024-05-30', 240: '2024-09-29', 144: '2024-06-23', 216: '2024-09-05'}}, {'Ticker': 'Amazon', 'Min_price_date': '2024-01-11', 'vibration_dates': {0: '2024-01-11', 90: '2024-04-12', 180: '2024-07-12', 270: '2024-10-11', 120: '2024-05-12', 240: '2024-09-11', 144: '2024-06-05', 216: '2024-08-18'}}, {'Ticker': 'Amazon', 'Max_price_date': '2024-03-04', 'vibration_dates': {0: '2024-03-04', 90: '2024-06-04', 180: '2024-09-03', 270: '2024-12-03', 120: '2024-07-04', 240: '2024-11-03', 144: '2024-07-28', 216: '2024-10-10'}}, {'Ticker': 'NVIDIA', 'Min_price_date': '2024-02-21', 'vibration_dates': {0: '2024-02-21', 90: '2024-05-23', 180: '2024-08-22', 270: '2024-11-21', 120: '2024-06-22', 240: '2024-10-22', 144: '2024-07-16', 216: '2024-09-28'}}, {'Ticker': 'NVIDIA', 'Max_price_date': '2024-03-08', 'vibration_dates': {0: '2024-03-08', 90: '2024-06-08', 180: '2024-09-07', 270: '2024-12-07', 120: '2024-07-08', 240: '2024-11-07', 144: '2024-08-01', 216: '2024-10-14'}}, {'Ticker': 'Berkshire', 'Min_price_date': '2024-01-17', 'vibration_dates': {0: '2024-01-17', 90: '2024-04-18', 180: '2024-07-18', 270: '2024-10-17', 120: '2024-05-18', 240: '2024-09-17', 144: '2024-06-11', 216: '2024-08-24'}}, {'Ticker': 'Berkshire', 'Max_price_date': '2024-02-26', 'vibration_dates': {0: '2024-02-26', 90: '2024-05-28', 180: '2024-08-27', 270: '2024-11-26', 120: '2024-06-27', 240: '2024-10-27', 144: '2024-07-21', 216: '2024-10-03'}}, {'Ticker': 'Meta', 'Min_price_date': '2024-03-11', 'vibration_dates': {0: '2024-03-11', 90: '2024-06-11', 180: '2024-09-10', 270: '2024-12-10', 120: '2024-07-11', 240: '2024-11-10', 144: '2024-08-04', 216: '2024-10-17'}}, {'Ticker': 'Meta', 'Max_price_date': '2024-03-08', 'vibration_dates': {0: '2024-03-08', 90: '2024-06-08', 180: '2024-09-07', 270: '2024-12-07', 120: '2024-07-08', 240: '2024-11-07', 144: '2024-08-01', 216: '2024-10-14'}}, {'Ticker': 'Tesla', 'Min_price_date': '2024-03-14', 'vibration_dates': {0: '2024-03-14', 90: '2024-06-14', 180: '2024-09-13', 270: '2024-12-13', 120: '2024-07-14', 240: '2024-11-13', 144: '2024-08-07', 216: '2024-10-20'}}, {'Ticker': 'Tesla', 'Max_price_date': '2024-02-27', 'vibration_dates': {0: '2024-02-27', 90: '2024-05-29', 180: '2024-08-28', 270: '2024-11-27', 120: '2024-06-28', 240: '2024-10-28', 144: '2024-07-22', 216: '2024-10-04'}}]\n"
     ]
    }
   ],
   "source": [
    "main_dates=[]\n",
    "degrees = [0, 90, 180, 270, 120, 240, 144, 216]\n",
    "for i in range(len(swing_points_list)):\n",
    "    degree_dict = {}\n",
    "    ticker = swing_points_list[i]['Ticker'][0]  \n",
    "\n",
    "    for key in swing_points_list[i].keys():\n",
    "        if key != 'Ticker': \n",
    "            start_date = swing_points_list[i][key][0]  \n",
    "            start_date = start_date.strftime('%Y-%m-%d')  \n",
    "            \n",
    "            vibration_dates = calculate_vibration_dates(start_date, degrees)\n",
    "            \n",
    "            \n",
    "            degree_dict = {\n",
    "                'Ticker': ticker,\n",
    "                f'{key}': start_date,  \n",
    "                'vibration_dates': vibration_dates\n",
    "            }\n",
    "            \n",
    "            # Append to main_dates\n",
    "            main_dates.append(degree_dict)\n",
    "\n",
    "# Display the result\n",
    "print(main_dates)\n",
    "            \n",
    "            \n",
    "           "
   ]
  },
  {
   "cell_type": "code",
   "execution_count": 118,
   "metadata": {},
   "outputs": [
    {
     "data": {
      "text/plain": [
       "Timestamp('2024-02-01 00:00:00')"
      ]
     },
     "execution_count": 118,
     "metadata": {},
     "output_type": "execute_result"
    }
   ],
   "source": [
    "swing_points_list[0]['Min_price_date'][0]"
   ]
  },
  {
   "cell_type": "code",
   "execution_count": 130,
   "metadata": {},
   "outputs": [
    {
     "name": "stdout",
     "output_type": "stream",
     "text": [
      "{'Ticker': 'jpy', 'Min_price_date': '2024-02-01', 'vibration_dates': {0: '2024-02-01', 90: '2024-05-03', 180: '2024-08-02', 270: '2024-11-01', 120: '2024-06-02', 240: '2024-10-02', 144: '2024-06-26', 216: '2024-09-08'}}\n",
      "{'Ticker': 'jpy', 'Max_price_date': '2024-02-28', 'vibration_dates': {0: '2024-02-28', 90: '2024-05-30', 180: '2024-08-29', 270: '2024-11-28', 120: '2024-06-29', 240: '2024-10-29', 144: '2024-07-23', 216: '2024-10-05'}}\n",
      "{'Ticker': 'eur', 'Min_price_date': '2024-02-14', 'vibration_dates': {0: '2024-02-14', 90: '2024-05-16', 180: '2024-08-15', 270: '2024-11-14', 120: '2024-06-15', 240: '2024-10-15', 144: '2024-07-09', 216: '2024-09-21'}}\n",
      "{'Ticker': 'eur', 'Max_price_date': '2024-03-08', 'vibration_dates': {0: '2024-03-08', 90: '2024-06-08', 180: '2024-09-07', 270: '2024-12-07', 120: '2024-07-08', 240: '2024-11-07', 144: '2024-08-01', 216: '2024-10-14'}}\n",
      "{'Ticker': 'gbp', 'Min_price_date': '2024-02-05', 'vibration_dates': {0: '2024-02-05', 90: '2024-05-07', 180: '2024-08-06', 270: '2024-11-05', 120: '2024-06-06', 240: '2024-10-06', 144: '2024-06-30', 216: '2024-09-12'}}\n",
      "{'Ticker': 'gbp', 'Max_price_date': '2024-03-08', 'vibration_dates': {0: '2024-03-08', 90: '2024-06-08', 180: '2024-09-07', 270: '2024-12-07', 120: '2024-07-08', 240: '2024-11-07', 144: '2024-08-01', 216: '2024-10-14'}}\n",
      "{'Ticker': 'franc', 'Min_price_date': '2024-03-01', 'vibration_dates': {0: '2024-03-01', 90: '2024-06-01', 180: '2024-08-31', 270: '2024-11-30', 120: '2024-07-01', 240: '2024-10-31', 144: '2024-07-25', 216: '2024-10-07'}}\n",
      "{'Ticker': 'franc', 'Max_price_date': '2024-02-02', 'vibration_dates': {0: '2024-02-02', 90: '2024-05-04', 180: '2024-08-03', 270: '2024-11-02', 120: '2024-06-03', 240: '2024-10-03', 144: '2024-06-27', 216: '2024-09-09'}}\n",
      "{'Ticker': 'us100', 'Min_price_date': '2024-01-31', 'vibration_dates': {0: '2024-01-31', 90: '2024-05-02', 180: '2024-08-01', 270: '2024-10-31', 120: '2024-06-01', 240: '2024-10-01', 144: '2024-06-25', 216: '2024-09-07'}}\n",
      "{'Ticker': 'us100', 'Max_price_date': '2024-03-21', 'vibration_dates': {0: '2024-03-21', 90: '2024-06-21', 180: '2024-09-20', 270: '2024-12-20', 120: '2024-07-21', 240: '2024-11-20', 144: '2024-08-14', 216: '2024-10-27'}}\n",
      "{'Ticker': 'us30', 'Min_price_date': '2024-01-18', 'vibration_dates': {0: '2024-01-18', 90: '2024-04-19', 180: '2024-07-19', 270: '2024-10-18', 120: '2024-05-19', 240: '2024-09-18', 144: '2024-06-12', 216: '2024-08-25'}}\n",
      "{'Ticker': 'us30', 'Max_price_date': '2024-03-21', 'vibration_dates': {0: '2024-03-21', 90: '2024-06-21', 180: '2024-09-20', 270: '2024-12-20', 120: '2024-07-21', 240: '2024-11-20', 144: '2024-08-14', 216: '2024-10-27'}}\n",
      "{'Ticker': 'us500', 'Min_price_date': '2024-01-17', 'vibration_dates': {0: '2024-01-17', 90: '2024-04-18', 180: '2024-07-18', 270: '2024-10-17', 120: '2024-05-18', 240: '2024-09-17', 144: '2024-06-11', 216: '2024-08-24'}}\n",
      "{'Ticker': 'us500', 'Max_price_date': '2024-03-21', 'vibration_dates': {0: '2024-03-21', 90: '2024-06-21', 180: '2024-09-20', 270: '2024-12-20', 120: '2024-07-21', 240: '2024-11-20', 144: '2024-08-14', 216: '2024-10-27'}}\n",
      "{'Ticker': 'crude oil', 'Min_price_date': '2024-02-05', 'vibration_dates': {0: '2024-02-05', 90: '2024-05-07', 180: '2024-08-06', 270: '2024-11-05', 120: '2024-06-06', 240: '2024-10-06', 144: '2024-06-30', 216: '2024-09-12'}}\n",
      "{'Ticker': 'crude oil', 'Max_price_date': '2024-03-19', 'vibration_dates': {0: '2024-03-19', 90: '2024-06-19', 180: '2024-09-18', 270: '2024-12-18', 120: '2024-07-19', 240: '2024-11-18', 144: '2024-08-12', 216: '2024-10-25'}}\n",
      "{'Ticker': 'gold', 'Min_price_date': '2024-02-14', 'vibration_dates': {0: '2024-02-14', 90: '2024-05-16', 180: '2024-08-15', 270: '2024-11-14', 120: '2024-06-15', 240: '2024-10-15', 144: '2024-07-09', 216: '2024-09-21'}}\n",
      "{'Ticker': 'gold', 'Max_price_date': '2024-03-08', 'vibration_dates': {0: '2024-03-08', 90: '2024-06-08', 180: '2024-09-07', 270: '2024-12-07', 120: '2024-07-08', 240: '2024-11-07', 144: '2024-08-01', 216: '2024-10-14'}}\n",
      "{'Ticker': 'bitcoin', 'Min_price_date': '2024-01-23', 'vibration_dates': {0: '2024-01-23', 90: '2024-04-24', 180: '2024-07-24', 270: '2024-10-23', 120: '2024-05-24', 240: '2024-09-23', 144: '2024-06-17', 216: '2024-08-30'}}\n",
      "{'Ticker': 'bitcoin', 'Max_price_date': '2024-03-14', 'vibration_dates': {0: '2024-03-14', 90: '2024-06-14', 180: '2024-09-13', 270: '2024-12-13', 120: '2024-07-14', 240: '2024-11-13', 144: '2024-08-07', 216: '2024-10-20'}}\n",
      "{'Ticker': 'Apple', 'Min_price_date': '2024-03-07', 'vibration_dates': {0: '2024-03-07', 90: '2024-06-07', 180: '2024-09-06', 270: '2024-12-06', 120: '2024-07-07', 240: '2024-11-06', 144: '2024-07-31', 216: '2024-10-13'}}\n",
      "{'Ticker': 'Apple', 'Max_price_date': '2024-01-24', 'vibration_dates': {0: '2024-01-24', 90: '2024-04-25', 180: '2024-07-25', 270: '2024-10-24', 120: '2024-05-25', 240: '2024-09-24', 144: '2024-06-18', 216: '2024-08-31'}}\n",
      "{'Ticker': 'Microsoft', 'Min_price_date': '2024-02-21', 'vibration_dates': {0: '2024-02-21', 90: '2024-05-23', 180: '2024-08-22', 270: '2024-11-21', 120: '2024-06-22', 240: '2024-10-22', 144: '2024-07-16', 216: '2024-09-28'}}\n",
      "{'Ticker': 'Microsoft', 'Max_price_date': '2024-03-21', 'vibration_dates': {0: '2024-03-21', 90: '2024-06-21', 180: '2024-09-20', 270: '2024-12-20', 120: '2024-07-21', 240: '2024-11-20', 144: '2024-08-14', 216: '2024-10-27'}}\n",
      "{'Ticker': 'Google', 'Min_price_date': '2024-03-05', 'vibration_dates': {0: '2024-03-05', 90: '2024-06-05', 180: '2024-09-04', 270: '2024-12-04', 120: '2024-07-05', 240: '2024-11-04', 144: '2024-07-29', 216: '2024-10-11'}}\n",
      "{'Ticker': 'Google', 'Max_price_date': '2024-01-29', 'vibration_dates': {0: '2024-01-29', 90: '2024-04-30', 180: '2024-07-30', 270: '2024-10-29', 120: '2024-05-30', 240: '2024-09-29', 144: '2024-06-23', 216: '2024-09-05'}}\n",
      "{'Ticker': 'Amazon', 'Min_price_date': '2024-01-11', 'vibration_dates': {0: '2024-01-11', 90: '2024-04-12', 180: '2024-07-12', 270: '2024-10-11', 120: '2024-05-12', 240: '2024-09-11', 144: '2024-06-05', 216: '2024-08-18'}}\n",
      "{'Ticker': 'Amazon', 'Max_price_date': '2024-03-04', 'vibration_dates': {0: '2024-03-04', 90: '2024-06-04', 180: '2024-09-03', 270: '2024-12-03', 120: '2024-07-04', 240: '2024-11-03', 144: '2024-07-28', 216: '2024-10-10'}}\n",
      "{'Ticker': 'NVIDIA', 'Min_price_date': '2024-02-21', 'vibration_dates': {0: '2024-02-21', 90: '2024-05-23', 180: '2024-08-22', 270: '2024-11-21', 120: '2024-06-22', 240: '2024-10-22', 144: '2024-07-16', 216: '2024-09-28'}}\n",
      "{'Ticker': 'NVIDIA', 'Max_price_date': '2024-03-08', 'vibration_dates': {0: '2024-03-08', 90: '2024-06-08', 180: '2024-09-07', 270: '2024-12-07', 120: '2024-07-08', 240: '2024-11-07', 144: '2024-08-01', 216: '2024-10-14'}}\n",
      "{'Ticker': 'Berkshire', 'Min_price_date': '2024-01-17', 'vibration_dates': {0: '2024-01-17', 90: '2024-04-18', 180: '2024-07-18', 270: '2024-10-17', 120: '2024-05-18', 240: '2024-09-17', 144: '2024-06-11', 216: '2024-08-24'}}\n",
      "{'Ticker': 'Berkshire', 'Max_price_date': '2024-02-26', 'vibration_dates': {0: '2024-02-26', 90: '2024-05-28', 180: '2024-08-27', 270: '2024-11-26', 120: '2024-06-27', 240: '2024-10-27', 144: '2024-07-21', 216: '2024-10-03'}}\n",
      "{'Ticker': 'Meta', 'Min_price_date': '2024-03-11', 'vibration_dates': {0: '2024-03-11', 90: '2024-06-11', 180: '2024-09-10', 270: '2024-12-10', 120: '2024-07-11', 240: '2024-11-10', 144: '2024-08-04', 216: '2024-10-17'}}\n",
      "{'Ticker': 'Meta', 'Max_price_date': '2024-03-08', 'vibration_dates': {0: '2024-03-08', 90: '2024-06-08', 180: '2024-09-07', 270: '2024-12-07', 120: '2024-07-08', 240: '2024-11-07', 144: '2024-08-01', 216: '2024-10-14'}}\n",
      "{'Ticker': 'Tesla', 'Min_price_date': '2024-03-14', 'vibration_dates': {0: '2024-03-14', 90: '2024-06-14', 180: '2024-09-13', 270: '2024-12-13', 120: '2024-07-14', 240: '2024-11-13', 144: '2024-08-07', 216: '2024-10-20'}}\n",
      "{'Ticker': 'Tesla', 'Max_price_date': '2024-02-27', 'vibration_dates': {0: '2024-02-27', 90: '2024-05-29', 180: '2024-08-28', 270: '2024-11-27', 120: '2024-06-28', 240: '2024-10-28', 144: '2024-07-22', 216: '2024-10-04'}}\n"
     ]
    }
   ],
   "source": [
    "for i in main_dates:\n",
    "    print(i)"
   ]
  },
  {
   "cell_type": "code",
   "execution_count": null,
   "metadata": {},
   "outputs": [
    {
     "name": "stdout",
     "output_type": "stream",
     "text": [
      "2024-11-09\n",
      "0\n",
      "Min_price_date\n",
      "[{'ticker': 'jpy', 'actual_date': '2024-02-01', 'degree': 0}]\n"
     ]
    }
   ],
   "source": [
    "from datetime import datetime\n",
    "\n",
    "# Today's date\n",
    "today_date = datetime.now().strftime('%Y-%m-%d')\n",
    "\n",
    "# List to store results\n",
    "today_list = []\n",
    "\n",
    "# Iterate through the main_dates\n",
    "for i in range(len(main_dates)):\n",
    "    degree_dict = {}\n",
    "    ticker = main_dates[i]['Ticker']\n",
    "    match_dict = {}  \n",
    "\n",
    "    # Iterate through the keys of the current dictionary in main_dates\n",
    "    for key in main_dates[i].keys():\n",
    "        # Check if the key is 'Min_price_date' or 'Max_price_date'\n",
    "        if key == 'Min_price_date' or key == 'Max_price_date':\n",
    "            vibration_dates = main_dates[i]['vibration_dates']\n",
    "            for degree, date in vibration_dates.items():\n",
    "                if date == today_date:\n",
    "                    print(date)\n",
    "                    print(degree)\n",
    "                    print(key)\n",
    "                    match_dict = {\n",
    "                        'ticker': ticker,\n",
    "                        'actual_date': main_dates[i][key],  \n",
    "                        'degree': degree\n",
    "                    }\n",
    "                    today_list.append(match_dict)  \n",
    "        else:\n",
    "            continue\n",
    "\n",
    "# Print the result\n",
    "print(today_list)\n"
   ]
  },
  {
   "cell_type": "code",
   "execution_count": 159,
   "metadata": {},
   "outputs": [
    {
     "data": {
      "text/plain": [
       "{'Ticker': 'jpy',\n",
       " 'Min_price_date': '2024-02-01',\n",
       " 'vibration_dates': {0: '2024-11-09',\n",
       "  90: '2024-05-03',\n",
       "  180: '2024-08-02',\n",
       "  270: '2024-11-01',\n",
       "  120: '2024-06-02',\n",
       "  240: '2024-10-02',\n",
       "  144: '2024-06-26',\n",
       "  216: '2024-09-08'}}"
      ]
     },
     "execution_count": 159,
     "metadata": {},
     "output_type": "execute_result"
    }
   ],
   "source": [
    "main_dates[0]"
   ]
  },
  {
   "cell_type": "code",
   "execution_count": 144,
   "metadata": {},
   "outputs": [],
   "source": [
    "vibration_dates = main_dates[0]['vibration_dates']\n",
    "    "
   ]
  },
  {
   "cell_type": "code",
   "execution_count": null,
   "metadata": {},
   "outputs": [
    {
     "name": "stdout",
     "output_type": "stream",
     "text": [
      "2024-11-09\n",
      "0\n"
     ]
    }
   ],
   "source": []
  },
  {
   "cell_type": "code",
   "execution_count": 148,
   "metadata": {},
   "outputs": [
    {
     "data": {
      "text/plain": [
       "{0: '2024-02-01',\n",
       " 90: '2024-05-03',\n",
       " 180: '2024-08-02',\n",
       " 270: '2024-11-01',\n",
       " 120: '2024-06-02',\n",
       " 240: '2024-10-02',\n",
       " 144: '2024-06-26',\n",
       " 216: '2024-09-08'}"
      ]
     },
     "execution_count": 148,
     "metadata": {},
     "output_type": "execute_result"
    }
   ],
   "source": [
    "vibration_dates"
   ]
  },
  {
   "cell_type": "code",
   "execution_count": null,
   "metadata": {},
   "outputs": [
    {
     "data": {
      "text/plain": [
       "'2024-11-09'"
      ]
     },
     "execution_count": 157,
     "metadata": {},
     "output_type": "execute_result"
    }
   ],
   "source": []
  },
  {
   "cell_type": "code",
   "execution_count": null,
   "metadata": {},
   "outputs": [],
   "source": []
  }
 ],
 "metadata": {
  "kernelspec": {
   "display_name": "base",
   "language": "python",
   "name": "python3"
  },
  "language_info": {
   "codemirror_mode": {
    "name": "ipython",
    "version": 3
   },
   "file_extension": ".py",
   "mimetype": "text/x-python",
   "name": "python",
   "nbconvert_exporter": "python",
   "pygments_lexer": "ipython3",
   "version": "3.12.4"
  }
 },
 "nbformat": 4,
 "nbformat_minor": 2
}
